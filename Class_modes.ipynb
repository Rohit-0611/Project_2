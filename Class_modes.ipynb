{
 "cells": [
  {
   "cell_type": "markdown",
   "metadata": {},
   "source": [
    "Public mode"
   ]
  },
  {
   "cell_type": "code",
   "execution_count": null,
   "metadata": {},
   "outputs": [],
   "source": [
    "class Person:\n",
    "   \n",
    " \n",
    "    def __init__(self, name):\n",
    "        self.name = name\n",
    "        self.profession = \"Data\"\n",
    "   \n",
    "    # Sample Method \n",
    "    def say_hi(self):\n",
    "        print('Hello, my name is', self.name)\n",
    "        print('He plays', self.profession, \"for living\")\n",
    "   \n",
    "p = Person('Rohit')\n",
    "p.say_hi()"
   ]
  },
  {
   "cell_type": "markdown",
   "metadata": {},
   "source": [
    "Private"
   ]
  },
  {
   "cell_type": "code",
   "execution_count": null,
   "metadata": {},
   "outputs": [],
   "source": [
    "class Person:\n",
    "\n",
    "    def __init__(self, name):\n",
    "        self.__name = name\n",
    "        self.__profession = \"Data\"\n",
    "\n",
    "    def __say_hi(self):\n",
    "        print('Hello, my name is', self.__name)\n",
    "        print('He plays', self.__profession, \"for living\")\n",
    "    \n",
    "    def access_private(self):\n",
    "      self.__say_hi()\n",
    "   \n",
    "p = Person('Rohit')\n",
    "p.access_private()"
   ]
  },
  {
   "cell_type": "markdown",
   "metadata": {},
   "source": [
    "Protected"
   ]
  },
  {
   "cell_type": "code",
   "execution_count": null,
   "metadata": {},
   "outputs": [],
   "source": [
    "class Person:\n",
    "   \n",
    "    def __init__(self, name):\n",
    "        self._name = name\n",
    "        self._profession = \"Data\"\n",
    "   \n",
    "    def _say_hi(self):\n",
    "        print('Hello, my name is', self._name)\n",
    "        print('He plays', self._profession, \"for living\")\n",
    "\n",
    " \n",
    "class broker(Person):\n",
    "  def __init__(self, name):\n",
    "    Person.__init__(self, name)\n",
    "\n",
    "  def displayDetails(self):\n",
    "    print(\"Name: \", self._name)\n",
    "    self._say_hi()\n",
    "\n",
    "p = broker('Rohit')\n",
    "p.displayDetails()"
   ]
  },
  {
   "cell_type": "code",
   "execution_count": null,
   "metadata": {},
   "outputs": [],
   "source": []
  },
  {
   "cell_type": "markdown",
   "metadata": {},
   "source": []
  }
 ],
 "metadata": {
  "language_info": {
   "name": "python"
  },
  "orig_nbformat": 4
 },
 "nbformat": 4,
 "nbformat_minor": 2
}
